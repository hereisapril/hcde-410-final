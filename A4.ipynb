{
 "cells": [
  {
   "cell_type": "markdown",
   "id": "a896a2c8-68dc-4772-966a-7583d61c5b80",
   "metadata": {},
   "source": [
    "# Motivation and problem statement: \n",
    "I want to use the ESOC COVID-19 Misinformation Dataset to analyze how fake COVID information spreads. This is interesting to me because recently I had a very intense argument with both a friend and a family member about their choice to not get the COVID vaccine. They both cited sources that I know are not reliable but they refused to listen. I find it incredibly interesting how I can't possibly understand how someone could believe these sources claiming the government is just trying to control us, etc. and they also can't understand why I'm so willing to get vaccinated. Specifically, I would like to see if more extreme articles tend to spread faster than the less extreme articles. This could be useful to understand how misinformation spreads and how we might combat it. I'm hoping to learn more about how this information spreads and if more extremes articles tend to be interacted with or shared more. \n",
    "\n",
    "# Data selected for analysis: \n",
    "I plan to use the ESOC COVID-19 Misinformation Dataset (published by the Princeton University Empirical Studies of Conflict): https://esoc.princeton.edu/publications/esoc-covid-19-misinformation-dataset\n",
    "The dataset records tweets that mention information flagged as false, the source/link to the fake/unreliable article, the tweet's country of origin, key words, and the type of misinformation. ESOC actually has an extensive guideline for how to use their datasets here: https://drive.google.com/file/d/1lEUlf2yiaflq8jB-xhocp1Hhrrp4VNbi/view , mainly naming that projects should be made public and easily accessible for future researchers. This dataset will help me with my research goal because it lists the source article along with the tweets about that article. I could look into which articles are tweeted about more and which articles are tweeted about less, comparing how extreme each article is. Something that may be difficult is objectively ranking how extreme one article is to another. \n",
    "\n",
    "\n",
    "# Unknowns and dependencies: \n",
    "I'm a little worried this dataset doesn't actually have all the information I need for my research goal but after pages and pages of google links, this was the closest one I got. I may keep brainstorming research topics according to this dataset that might fit this dataset better. I'm also open to suggestions!\n",
    "\n",
    "# Research Questions:\n",
    "1. Does more extreme fake news/misinformation spread more than less extreme fake news/misinformation?\n",
    "2. If so, how much more does fake news/misinformation spread than less extreme fake news/misinformation?\n",
    "3. Does fake news spread faster than real/reliable news?\n",
    "4. If so, how much faster does fake news spread than real news?\n",
    "\n",
    "# Background:\n",
    "Especially since the 2016 election and especially since COVID, the conversation around fake news, what it is, how it spreads, and why such a large population falls into its grasp has become a major topic of conversation. Fake news has been in the spotlight the past 4 years because personal data is sorting users into certain bubbles (as we discussed in class). As users get sorted into these bubbles, they become even more extreme in their beliefs and eventually it becomes difficult to convince them that any other perspective is even valid. This has become a major issue because truthful news has never been more important (in our lifetimes), with the release of the vaccine that could cure this global pandemic if we could JUST reach herd immunity... \n",
    "\n",
    "Anyway, according to this Stanford study, one of the many many studies that are being done on how fake news spreads so quickly, points out that malicious coders are building bots that \"masquerade as people\" and send \"highly emotional messages with little informational content\" to try and make people believe the fake news (https://engineering.stanford.edu/magazine/article/how-fake-news-spreads-real-virus). \n",
    "\n",
    "PBS referenced a study that found fake news to spread six times faster on Twitter than truthful news does: \"Accurate stories rarely reached more than 1,000 people, yet the most prominent false-news items routinely reached between 1,000 and 100,000 people.\" (https://www.pbs.org/newshour/science/false-news-travels-6-times-faster-on-twitter-than-truthful-news)\n",
    "\n",
    "The New York Times references the same study in their article covering the spread of fake news as well: https://www.nytimes.com/2018/03/08/technology/twitter-fake-news-research.html\n",
    "\n",
    "If you simply Google \"how quickly does fake news spread\", there are pages and pages of articles from various reputible sources all stating that fake news spreads much faster than truthful news. (Although, who knows anymore - this is all coming from my own tailored Google search results where Google knows I prefer more liberal news)\n",
    "\n",
    "Because of the large amounts of research that have gone into this topic in the past few years, I don't think my findings will be very different, especially since I'm using existing datasets and doing solo work for just a couple weeks as a class project and not part of a major research study. However, I still find this topic quite interesting because I just can't fathom believing some of the fake news that comes up. \n",
    "\n",
    "# Methodology\n",
    "I'm hoping to use student's t-test to compare the average spread of truthful news and the average spread of fake news, just to confirm that fake new spreads six times faster than truthful news. After that, I want to take my research a step further and define mild fake news vs middle fake news vs extreme fake news and do another average spread comparison between the two categories to see if and how much faster extreme fake news spreads. I will be looking for data sets that contain infomration on how many times a certain fake news article was shared, commented on, etc. and how much truthful news was shared, commented on, etc. As for measuring how the extremity of the fake news impacts spread, I'll have to pick and choose a few articles from that dataset to represent mild, medium, and extreme articles, explaining why I chose certain articles to represent each category. I know that this isn't an objective way to measure so I'll be sure to disclose my reasoning and the limits of this method of research in my README file. \n",
    "\n",
    "From this, I hope to build a line graph and based on the articles above, my gut feeling tells me the outcome might be exponential. I think a line graph would be most effective in visualizing my results because I could graph how extreme the article is against how much it spread, making it easy to see if more extreme news does spread faster than milder fake news and how much more quickly it spreads if it does.\n",
    "\n"
   ]
  },
  {
   "cell_type": "code",
   "execution_count": null,
   "id": "74cf9c94-cee8-455a-8a8c-13f3f59b8ef5",
   "metadata": {},
   "outputs": [],
   "source": []
  }
 ],
 "metadata": {
  "kernelspec": {
   "display_name": "Python 3",
   "language": "python",
   "name": "python3"
  },
  "language_info": {
   "codemirror_mode": {
    "name": "ipython",
    "version": 3
   },
   "file_extension": ".py",
   "mimetype": "text/x-python",
   "name": "python",
   "nbconvert_exporter": "python",
   "pygments_lexer": "ipython3",
   "version": "3.8.8"
  }
 },
 "nbformat": 4,
 "nbformat_minor": 5
}
